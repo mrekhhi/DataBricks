{
  "cells": [
    {
      "cell_type": "markdown",
      "metadata": {
        "application/vnd.databricks.v1+cell": {
          "cellMetadata": {},
          "inputWidgets": {},
          "nuid": "62f9ffaa-8aaa-44dd-af31-18dc89bb1deb",
          "showTitle": false,
          "tableResultSettingsMap": {},
          "title": ""
        },
        "id": "wz8CWxYlC2fI"
      },
      "source": [
        "### Data Reading"
      ]
    },
    {
      "cell_type": "markdown",
      "metadata": {
        "application/vnd.databricks.v1+cell": {
          "cellMetadata": {},
          "inputWidgets": {},
          "nuid": "dc5403e1-8e67-485d-ad3b-9eeaea92a25c",
          "showTitle": false,
          "tableResultSettingsMap": {},
          "title": ""
        },
        "id": "m4hKe53_C2fL"
      },
      "source": [
        "## Load data"
      ]
    },
    {
      "cell_type": "markdown",
      "metadata": {
        "application/vnd.databricks.v1+cell": {
          "cellMetadata": {},
          "inputWidgets": {},
          "nuid": "81c67fd5-06f8-4292-a3e8-77e13ad41bb1",
          "showTitle": false,
          "tableResultSettingsMap": {},
          "title": ""
        },
        "id": "Bksybs-KC2fL"
      },
      "source": [
        "1. CSV File"
      ]
    },
    {
      "cell_type": "code",
      "execution_count": null,
      "metadata": {
        "application/vnd.databricks.v1+cell": {
          "cellMetadata": {
            "byteLimit": 2048000,
            "rowLimit": 10000
          },
          "inputWidgets": {},
          "nuid": "cc8951fc-bd0b-405e-858a-1c0168560ee5",
          "showTitle": false,
          "tableResultSettingsMap": {},
          "title": ""
        },
        "id": "pwZlmmijC2fM"
      },
      "outputs": [],
      "source": [
        "path_csv = '/Volumes/workspace/default/csvfile/BigMart Sales.csv'"
      ]
    },
    {
      "cell_type": "code",
      "execution_count": null,
      "metadata": {
        "application/vnd.databricks.v1+cell": {
          "cellMetadata": {
            "byteLimit": 2048000,
            "rowLimit": 10000
          },
          "inputWidgets": {},
          "nuid": "a87631a8-5cf8-4336-bb82-fa8a14a84443",
          "showTitle": false,
          "tableResultSettingsMap": {},
          "title": ""
        },
        "id": "lNkh3WcLC2fN"
      },
      "outputs": [],
      "source": [
        "df_csv = spark.read.format('csv')\\\n",
        "    .option('header',True)\\\n",
        "        .option('inferSchema',True)\\\n",
        "            .load(path_csv)"
      ]
    },
    {
      "cell_type": "code",
      "execution_count": null,
      "metadata": {
        "application/vnd.databricks.v1+cell": {
          "cellMetadata": {
            "byteLimit": 2048000,
            "rowLimit": 10000
          },
          "inputWidgets": {},
          "nuid": "0e5989cb-8eff-4854-85c3-fd947e47cf9b",
          "showTitle": false,
          "tableResultSettingsMap": {},
          "title": ""
        },
        "id": "zbOfQ71oC2fN"
      },
      "outputs": [],
      "source": [
        "df_csv.display()"
      ]
    },
    {
      "cell_type": "markdown",
      "metadata": {
        "application/vnd.databricks.v1+cell": {
          "cellMetadata": {},
          "inputWidgets": {},
          "nuid": "29a0f27d-ec78-40ae-9119-55aa962f6a34",
          "showTitle": false,
          "tableResultSettingsMap": {},
          "title": ""
        },
        "id": "9O-pTPSNC2fN"
      },
      "source": [
        "2. JSON file"
      ]
    },
    {
      "cell_type": "code",
      "execution_count": null,
      "metadata": {
        "application/vnd.databricks.v1+cell": {
          "cellMetadata": {
            "byteLimit": 2048000,
            "rowLimit": 10000
          },
          "inputWidgets": {},
          "nuid": "7c3f805b-08c0-4db5-b438-c32bad892d23",
          "showTitle": false,
          "tableResultSettingsMap": {},
          "title": ""
        },
        "id": "Mt_onguMC2fO"
      },
      "outputs": [],
      "source": [
        "path_json = '/Volumes/workspace/learning/jsonfile/drivers.json'"
      ]
    },
    {
      "cell_type": "code",
      "execution_count": null,
      "metadata": {
        "application/vnd.databricks.v1+cell": {
          "cellMetadata": {
            "byteLimit": 2048000,
            "rowLimit": 10000
          },
          "inputWidgets": {},
          "nuid": "6d57efdf-88ff-4e64-a1b2-fad096613fc8",
          "showTitle": false,
          "tableResultSettingsMap": {},
          "title": ""
        },
        "id": "jyxVR0WXC2fO"
      },
      "outputs": [],
      "source": [
        "df_json = spark.read.format('json')\\\n",
        "    .option('header',True)\\\n",
        "        .option('multiline',False)\\\n",
        "            .load(path_json)"
      ]
    },
    {
      "cell_type": "code",
      "execution_count": null,
      "metadata": {
        "application/vnd.databricks.v1+cell": {
          "cellMetadata": {
            "byteLimit": 2048000,
            "rowLimit": 10000
          },
          "inputWidgets": {},
          "nuid": "733e481d-c78a-4b81-8e09-bb844d959b88",
          "showTitle": false,
          "tableResultSettingsMap": {},
          "title": ""
        },
        "id": "wTlo5-6HC2fP"
      },
      "outputs": [],
      "source": [
        "df_json.display()"
      ]
    },
    {
      "cell_type": "markdown",
      "metadata": {
        "application/vnd.databricks.v1+cell": {
          "cellMetadata": {},
          "inputWidgets": {},
          "nuid": "21f19922-7ea0-44cd-893a-6c4fd0023c8c",
          "showTitle": false,
          "tableResultSettingsMap": {},
          "title": ""
        },
        "id": "shBLG9L_C2fP"
      },
      "source": [
        "### SCHEMA - DDL and StructType()\n"
      ]
    },
    {
      "cell_type": "markdown",
      "metadata": {
        "application/vnd.databricks.v1+cell": {
          "cellMetadata": {},
          "inputWidgets": {},
          "nuid": "a19716b4-2be5-42be-a2b4-1a816d0d6c15",
          "showTitle": false,
          "tableResultSettingsMap": {},
          "title": ""
        },
        "id": "mcayZsKqC2fQ"
      },
      "source": [
        "###Schema Defination"
      ]
    },
    {
      "cell_type": "markdown",
      "metadata": {
        "application/vnd.databricks.v1+cell": {
          "cellMetadata": {},
          "inputWidgets": {},
          "nuid": "09304a15-bb1d-42b5-9a1e-adcca42185e6",
          "showTitle": false,
          "tableResultSettingsMap": {},
          "title": ""
        },
        "id": "2ERuN6VIC2fQ"
      },
      "source": [
        "--> To Use for Change the data type"
      ]
    },
    {
      "cell_type": "markdown",
      "metadata": {
        "application/vnd.databricks.v1+cell": {
          "cellMetadata": {},
          "inputWidgets": {},
          "nuid": "c73f524a-4c09-4d75-ba57-b5214d71c8cd",
          "showTitle": false,
          "tableResultSettingsMap": {},
          "title": ""
        },
        "id": "UCT6_MExC2fQ"
      },
      "source": [
        "1. DDL Schema"
      ]
    },
    {
      "cell_type": "code",
      "execution_count": null,
      "metadata": {
        "application/vnd.databricks.v1+cell": {
          "cellMetadata": {
            "byteLimit": 2048000,
            "rowLimit": 10000
          },
          "inputWidgets": {},
          "nuid": "6e191c8c-3d4b-40db-b701-21e45e730135",
          "showTitle": false,
          "tableResultSettingsMap": {},
          "title": ""
        },
        "id": "heaAMNwsC2fQ"
      },
      "outputs": [],
      "source": [
        "df_csv.printSchema()"
      ]
    },
    {
      "cell_type": "code",
      "execution_count": null,
      "metadata": {
        "application/vnd.databricks.v1+cell": {
          "cellMetadata": {
            "byteLimit": 2048000,
            "rowLimit": 10000
          },
          "inputWidgets": {},
          "nuid": "d2578f3b-5fb8-4fbb-baad-dccd706048f4",
          "showTitle": false,
          "tableResultSettingsMap": {},
          "title": ""
        },
        "id": "lUE34Mk0C2fQ"
      },
      "outputs": [],
      "source": [
        "schema_csv = '''\n",
        "Item_Identifier string,\n",
        "Item_Weight string,\n",
        "Item_Fat_Content string,\n",
        "Item_Visibility double,\n",
        "Item_Type string,\n",
        "Item_MRP double,\n",
        "Outlet_Identifier string,\n",
        "Outlet_Establishment_Year integer,\n",
        "Outlet_Size string,\n",
        "Outlet_Location_Type string,\n",
        "Outlet_Type string,\n",
        "Item_Outlet_Sales double\n",
        "'''"
      ]
    },
    {
      "cell_type": "code",
      "execution_count": null,
      "metadata": {
        "application/vnd.databricks.v1+cell": {
          "cellMetadata": {
            "byteLimit": 2048000,
            "rowLimit": 10000
          },
          "inputWidgets": {},
          "nuid": "e3c711f3-af09-4c97-8bc7-e4629d19ad8b",
          "showTitle": false,
          "tableResultSettingsMap": {},
          "title": ""
        },
        "id": "H89fcM0xC2fQ"
      },
      "outputs": [],
      "source": [
        "df = spark.read.format('csv')\\\n",
        "    .schema(schema_csv)\\\n",
        "        .option('header',True)\\\n",
        "            .load(path_csv)"
      ]
    },
    {
      "cell_type": "code",
      "execution_count": null,
      "metadata": {
        "application/vnd.databricks.v1+cell": {
          "cellMetadata": {
            "byteLimit": 2048000,
            "rowLimit": 10000
          },
          "inputWidgets": {},
          "nuid": "374d56fc-5e32-4bbc-8b70-0bfab750d287",
          "showTitle": false,
          "tableResultSettingsMap": {},
          "title": ""
        },
        "id": "NahMZvmDC2fR"
      },
      "outputs": [],
      "source": [
        "df.display()"
      ]
    },
    {
      "cell_type": "markdown",
      "metadata": {
        "application/vnd.databricks.v1+cell": {
          "cellMetadata": {},
          "inputWidgets": {},
          "nuid": "c9133d12-9799-4974-a171-663ce9cb9e75",
          "showTitle": false,
          "tableResultSettingsMap": {},
          "title": ""
        },
        "id": "eUjg5Xo-C2fR"
      },
      "source": [
        "2. StructType() Schema"
      ]
    },
    {
      "cell_type": "code",
      "execution_count": null,
      "metadata": {
        "application/vnd.databricks.v1+cell": {
          "cellMetadata": {
            "byteLimit": 2048000,
            "rowLimit": 10000
          },
          "inputWidgets": {},
          "nuid": "1b9caa16-f774-4ed9-a298-548eb1605ade",
          "showTitle": false,
          "tableResultSettingsMap": {},
          "title": ""
        },
        "id": "Ad0OYkn-C2fR"
      },
      "outputs": [],
      "source": [
        "from pyspark.sql.types import *\n",
        "from pyspark.sql.functions import *\n"
      ]
    },
    {
      "cell_type": "code",
      "execution_count": null,
      "metadata": {
        "application/vnd.databricks.v1+cell": {
          "cellMetadata": {
            "byteLimit": 2048000,
            "rowLimit": 10000
          },
          "inputWidgets": {},
          "nuid": "3830c4ca-0fc0-4945-bf34-baa841b552e1",
          "showTitle": false,
          "tableResultSettingsMap": {},
          "title": ""
        },
        "id": "_ouIlSGSC2fR"
      },
      "outputs": [],
      "source": [
        "schema_struct = StructType([\n",
        "    StructField('Item_Identifier',StringType(),True),\n",
        "    StructField('Item_Weight',StringType(),True),\n",
        "    StructField('Item_Fat_Content',StringType(),True),\n",
        "    StructField('Item_Visibility',StringType(),True),\n",
        "    StructField('Item_Type',StringType(),True),\n",
        "    StructField('Item_MRP',DoubleType(),True),\n",
        "    StructField('Outlet_Identifier',StringType(),True),\n",
        "    StructField('Outlet_Establishment_Year',IntegerType(),True),\n",
        "    StructField('Outlet_Size',StringType(),True),\n",
        "    StructField('Outlet_Location_Type',StringType(),True),\n",
        "    StructField('Outlet_Type',StringType(),True),\n",
        "    StructField('Item_Outlet_Sales',DoubleType(),True)\n",
        "\n",
        "])"
      ]
    },
    {
      "cell_type": "code",
      "execution_count": null,
      "metadata": {
        "application/vnd.databricks.v1+cell": {
          "cellMetadata": {
            "byteLimit": 2048000,
            "rowLimit": 10000
          },
          "inputWidgets": {},
          "nuid": "62639b91-4fca-421d-a7dd-805727074a87",
          "showTitle": false,
          "tableResultSettingsMap": {},
          "title": ""
        },
        "id": "PRNyHqSjC2fR"
      },
      "outputs": [],
      "source": [
        "df= spark.read.format('csv')\\\n",
        "    .schema(schema_struct)\\\n",
        "        .option('header',True)\\\n",
        "            .option('inferSchema',True)\\\n",
        "                .load(path_csv)"
      ]
    },
    {
      "cell_type": "code",
      "execution_count": null,
      "metadata": {
        "application/vnd.databricks.v1+cell": {
          "cellMetadata": {
            "byteLimit": 2048000,
            "rowLimit": 10000
          },
          "inputWidgets": {},
          "nuid": "45187587-8c33-4ec9-87b8-3ad1c38d6264",
          "showTitle": false,
          "tableResultSettingsMap": {},
          "title": ""
        },
        "id": "jqW_SAutC2fR"
      },
      "outputs": [],
      "source": [
        "df.display()"
      ]
    },
    {
      "cell_type": "markdown",
      "metadata": {
        "application/vnd.databricks.v1+cell": {
          "cellMetadata": {},
          "inputWidgets": {},
          "nuid": "1ea5f582-4edf-4368-85eb-cf84fed07d68",
          "showTitle": false,
          "tableResultSettingsMap": {},
          "title": ""
        },
        "id": "qq6CVp8mC2fS"
      },
      "source": [
        "### Data Transormation"
      ]
    },
    {
      "cell_type": "markdown",
      "metadata": {
        "application/vnd.databricks.v1+cell": {
          "cellMetadata": {},
          "inputWidgets": {},
          "nuid": "01bd3aba-90d2-42ce-8f60-4b3f7ae379cb",
          "showTitle": false,
          "tableResultSettingsMap": {},
          "title": ""
        },
        "id": "3Adv249CC2fS"
      },
      "source": [
        "### SELECT"
      ]
    },
    {
      "cell_type": "markdown",
      "metadata": {
        "application/vnd.databricks.v1+cell": {
          "cellMetadata": {},
          "inputWidgets": {},
          "nuid": "551bd7a3-00ca-40ee-9dbf-7872a206ab9d",
          "showTitle": false,
          "tableResultSettingsMap": {},
          "title": ""
        },
        "id": "DAd4Z1a9C2fS"
      },
      "source": [
        "Method 1"
      ]
    },
    {
      "cell_type": "code",
      "execution_count": null,
      "metadata": {
        "application/vnd.databricks.v1+cell": {
          "cellMetadata": {
            "byteLimit": 2048000,
            "rowLimit": 10000
          },
          "inputWidgets": {},
          "nuid": "a2689ac4-7354-4727-aa52-29e9cadfd6ac",
          "showTitle": false,
          "tableResultSettingsMap": {},
          "title": ""
        },
        "id": "V3dxKcCxC2fS"
      },
      "outputs": [],
      "source": [
        "df_csv.select('Item_Identifier','Item_Weight','Item_Fat_Content').display()"
      ]
    },
    {
      "cell_type": "markdown",
      "metadata": {
        "application/vnd.databricks.v1+cell": {
          "cellMetadata": {},
          "inputWidgets": {},
          "nuid": "f255624d-334c-4fa0-b743-fe611a374198",
          "showTitle": false,
          "tableResultSettingsMap": {},
          "title": ""
        },
        "id": "QKnJs3XZC2fS"
      },
      "source": [
        "Method 2 --> By using Col()"
      ]
    },
    {
      "cell_type": "code",
      "execution_count": null,
      "metadata": {
        "application/vnd.databricks.v1+cell": {
          "cellMetadata": {
            "byteLimit": 2048000,
            "rowLimit": 10000
          },
          "inputWidgets": {},
          "nuid": "3d0e15b4-45be-44dd-bca9-295f22978e16",
          "showTitle": false,
          "tableResultSettingsMap": {},
          "title": ""
        },
        "id": "O7vKmT0BC2fS"
      },
      "outputs": [],
      "source": [
        "df_csv.select(col('Item_Identifier'),col('Item_Weight'),col('Item_Fat_Content')).display()"
      ]
    },
    {
      "cell_type": "markdown",
      "metadata": {
        "application/vnd.databricks.v1+cell": {
          "cellMetadata": {},
          "inputWidgets": {},
          "nuid": "c4a73b18-2e19-4245-9aab-d5d34ae4d8a0",
          "showTitle": false,
          "tableResultSettingsMap": {},
          "title": ""
        },
        "id": "SDyCvJC5C2fS"
      },
      "source": [
        "### ALIAS"
      ]
    },
    {
      "cell_type": "markdown",
      "metadata": {
        "application/vnd.databricks.v1+cell": {
          "cellMetadata": {},
          "inputWidgets": {},
          "nuid": "8450bc32-b7c6-4a64-bafa-3f2b50881cf2",
          "showTitle": false,
          "tableResultSettingsMap": {},
          "title": ""
        },
        "id": "kw8jzlXlC2fS"
      },
      "source": [
        "--> Use for rename the column name\n"
      ]
    },
    {
      "cell_type": "code",
      "execution_count": null,
      "metadata": {
        "application/vnd.databricks.v1+cell": {
          "cellMetadata": {
            "byteLimit": 2048000,
            "rowLimit": 10000
          },
          "inputWidgets": {},
          "nuid": "e21af20c-9104-4c98-9921-2eeb3fa6debf",
          "showTitle": false,
          "tableResultSettingsMap": {},
          "title": ""
        },
        "id": "XusVZnU-C2fS"
      },
      "outputs": [],
      "source": [
        "df_csv.select(col('Item_Identifier').alias('Item_ID')).display()"
      ]
    },
    {
      "cell_type": "markdown",
      "metadata": {
        "application/vnd.databricks.v1+cell": {
          "cellMetadata": {},
          "inputWidgets": {},
          "nuid": "13172901-2ffa-4ea4-bc48-267e3c6b1029",
          "showTitle": false,
          "tableResultSettingsMap": {},
          "title": ""
        },
        "id": "YSD_0D_GC2fT"
      },
      "source": [
        "FILTER / WHERE"
      ]
    },
    {
      "cell_type": "markdown",
      "metadata": {
        "application/vnd.databricks.v1+cell": {
          "cellMetadata": {},
          "inputWidgets": {},
          "nuid": "3272dfa4-c2b1-4983-81d9-16ccf3cfaf4d",
          "showTitle": false,
          "tableResultSettingsMap": {},
          "title": ""
        },
        "id": "40ZNgxNKC2fT"
      },
      "source": [
        "CASE 1: Filter the data with fat content = Regular"
      ]
    },
    {
      "cell_type": "code",
      "execution_count": null,
      "metadata": {
        "application/vnd.databricks.v1+cell": {
          "cellMetadata": {
            "byteLimit": 2048000,
            "rowLimit": 10000
          },
          "inputWidgets": {},
          "nuid": "ddd8401d-0ba3-4cc3-8c5e-27d1bc4218d7",
          "showTitle": false,
          "tableResultSettingsMap": {},
          "title": ""
        },
        "id": "vxBFMHRRC2fT"
      },
      "outputs": [],
      "source": [
        "df_csv.printSchema()"
      ]
    },
    {
      "cell_type": "code",
      "execution_count": null,
      "metadata": {
        "application/vnd.databricks.v1+cell": {
          "cellMetadata": {
            "byteLimit": 2048000,
            "rowLimit": 10000
          },
          "inputWidgets": {},
          "nuid": "4052b6fb-91a7-4cf6-81d7-5c937d0e1cf9",
          "showTitle": false,
          "tableResultSettingsMap": {},
          "title": ""
        },
        "id": "spcp89EYC2fT"
      },
      "outputs": [],
      "source": [
        "df_csv.filter(col('Item_Fat_Content') == 'Regular').display()"
      ]
    },
    {
      "cell_type": "markdown",
      "metadata": {
        "application/vnd.databricks.v1+cell": {
          "cellMetadata": {},
          "inputWidgets": {},
          "nuid": "905765e6-4081-4cea-a405-654fff90f38c",
          "showTitle": false,
          "tableResultSettingsMap": {},
          "title": ""
        },
        "id": "CZDx3B0_C2fT"
      },
      "source": [
        "CASE 2: Slice the data with item type = Soft Drinks and weight < 10"
      ]
    },
    {
      "cell_type": "code",
      "execution_count": null,
      "metadata": {
        "application/vnd.databricks.v1+cell": {
          "cellMetadata": {
            "byteLimit": 2048000,
            "rowLimit": 10000
          },
          "inputWidgets": {},
          "nuid": "4396e8b2-d01d-418a-88c6-4dae7703552a",
          "showTitle": false,
          "tableResultSettingsMap": {},
          "title": ""
        },
        "id": "w-fhO79vC2fT"
      },
      "outputs": [],
      "source": [
        "df_csv.filter((col('Item_Type') == 'Soft Drinks') & (col('Item_Weight') < 10)).display()"
      ]
    },
    {
      "cell_type": "markdown",
      "metadata": {
        "application/vnd.databricks.v1+cell": {
          "cellMetadata": {},
          "inputWidgets": {},
          "nuid": "441754d9-517a-459c-b349-5b04a927d10d",
          "showTitle": false,
          "tableResultSettingsMap": {},
          "title": ""
        },
        "id": "7wkIKXgoC2fU"
      },
      "source": [
        "CASE 3: Feth the data Tier in (Tier1 or Tier2) and Outlet Size is Null"
      ]
    },
    {
      "cell_type": "code",
      "execution_count": null,
      "metadata": {
        "application/vnd.databricks.v1+cell": {
          "cellMetadata": {
            "byteLimit": 2048000,
            "rowLimit": 10000
          },
          "inputWidgets": {},
          "nuid": "6eba4951-4667-4050-a8ea-10c37c736ca6",
          "showTitle": false,
          "tableResultSettingsMap": {},
          "title": ""
        },
        "id": "BarjxrzXC2ff"
      },
      "outputs": [],
      "source": [
        "df_csv.filter((col('Outlet_Size').isNull())& col('Outlet_Location_Type').isin('Tier 1','Tier 2')).display()"
      ]
    },
    {
      "cell_type": "markdown",
      "metadata": {
        "application/vnd.databricks.v1+cell": {
          "cellMetadata": {},
          "inputWidgets": {},
          "nuid": "74145758-4238-45c8-b585-2f44ad359ec2",
          "showTitle": false,
          "tableResultSettingsMap": {},
          "title": ""
        },
        "id": "lU5XwwMbC2fg"
      },
      "source": [
        "### withColumnRenamed"
      ]
    },
    {
      "cell_type": "markdown",
      "metadata": {
        "application/vnd.databricks.v1+cell": {
          "cellMetadata": {},
          "inputWidgets": {},
          "nuid": "b5b531ac-90eb-483f-9bde-6ae30c0c495a",
          "showTitle": false,
          "tableResultSettingsMap": {},
          "title": ""
        },
        "id": "FhZoZUEuC2fg"
      },
      "source": [
        "--> use to rename column in data frame level"
      ]
    },
    {
      "cell_type": "code",
      "execution_count": null,
      "metadata": {
        "application/vnd.databricks.v1+cell": {
          "cellMetadata": {
            "byteLimit": 2048000,
            "rowLimit": 10000
          },
          "inputWidgets": {},
          "nuid": "9aa48938-37fe-4e51-92e1-b401b71a4cf7",
          "showTitle": false,
          "tableResultSettingsMap": {},
          "title": ""
        },
        "id": "iIfSXOXUC2fg"
      },
      "outputs": [],
      "source": [
        "df_csv.withColumnRenamed('Item_Weight','Item_Wt').display()"
      ]
    },
    {
      "cell_type": "markdown",
      "metadata": {
        "application/vnd.databricks.v1+cell": {
          "cellMetadata": {},
          "inputWidgets": {},
          "nuid": "b36a415c-fa80-4a74-93dc-e30384d2777f",
          "showTitle": false,
          "tableResultSettingsMap": {},
          "title": ""
        },
        "id": "5bzUtfNvC2fg"
      },
      "source": [
        "###withColumn"
      ]
    },
    {
      "cell_type": "markdown",
      "metadata": {
        "application/vnd.databricks.v1+cell": {
          "cellMetadata": {},
          "inputWidgets": {},
          "nuid": "8c7d6ee7-9ebe-4c2b-bbc9-e50e495a0163",
          "showTitle": false,
          "tableResultSettingsMap": {},
          "title": ""
        },
        "id": "fgZQsa7-C2fg"
      },
      "source": [
        "Case 1 : Createa new column"
      ]
    },
    {
      "cell_type": "code",
      "execution_count": null,
      "metadata": {
        "application/vnd.databricks.v1+cell": {
          "cellMetadata": {
            "byteLimit": 2048000,
            "rowLimit": 10000
          },
          "inputWidgets": {},
          "nuid": "a0c4a122-178b-46ab-a883-b9dc4eaf9037",
          "showTitle": false,
          "tableResultSettingsMap": {},
          "title": ""
        },
        "id": "3y8gQvszC2fg"
      },
      "outputs": [],
      "source": [
        "df= df_csv.withColumn('Flag',lit(\"New\"))"
      ]
    },
    {
      "cell_type": "code",
      "execution_count": null,
      "metadata": {
        "application/vnd.databricks.v1+cell": {
          "cellMetadata": {
            "byteLimit": 2048000,
            "rowLimit": 10000
          },
          "inputWidgets": {},
          "nuid": "0303a31b-e84b-492a-8bf6-fcc5afa57862",
          "showTitle": false,
          "tableResultSettingsMap": {},
          "title": ""
        },
        "id": "2PKAA6-GC2fg"
      },
      "outputs": [],
      "source": [
        "df.display()"
      ]
    },
    {
      "cell_type": "code",
      "execution_count": null,
      "metadata": {
        "application/vnd.databricks.v1+cell": {
          "cellMetadata": {
            "byteLimit": 2048000,
            "rowLimit": 10000
          },
          "inputWidgets": {},
          "nuid": "0893b15f-306f-4502-8873-bee1708b0d9d",
          "showTitle": false,
          "tableResultSettingsMap": {},
          "title": ""
        },
        "id": "ZPMfHsvwC2fg"
      },
      "outputs": [],
      "source": [
        "df = df.withColumn('multiply',col('Item_Weight')*col('Item_MRP'))"
      ]
    },
    {
      "cell_type": "code",
      "execution_count": null,
      "metadata": {
        "application/vnd.databricks.v1+cell": {
          "cellMetadata": {
            "byteLimit": 2048000,
            "rowLimit": 10000
          },
          "inputWidgets": {},
          "nuid": "20d099d4-527c-4e6a-b416-f8fd384e69a5",
          "showTitle": false,
          "tableResultSettingsMap": {},
          "title": ""
        },
        "id": "HhG9XZMmC2fg"
      },
      "outputs": [],
      "source": [
        "df.display()"
      ]
    },
    {
      "cell_type": "markdown",
      "metadata": {
        "application/vnd.databricks.v1+cell": {
          "cellMetadata": {},
          "inputWidgets": {},
          "nuid": "961f71cf-4148-4da3-b332-8998bb991603",
          "showTitle": false,
          "tableResultSettingsMap": {},
          "title": ""
        },
        "id": "J9B451MzC2fg"
      },
      "source": [
        "Case 2 : Modify the existing one"
      ]
    },
    {
      "cell_type": "code",
      "execution_count": null,
      "metadata": {
        "application/vnd.databricks.v1+cell": {
          "cellMetadata": {
            "byteLimit": 2048000,
            "rowLimit": 10000
          },
          "inputWidgets": {},
          "nuid": "e7c41436-c48b-43cf-bbad-181cfb3fed24",
          "showTitle": false,
          "tableResultSettingsMap": {},
          "title": ""
        },
        "id": "Vaj_RgIZC2fg"
      },
      "outputs": [],
      "source": [
        "df_csv.withColumn('Item_Fat_Content',regexp_replace(col('Item_Fat_Content'),\"Regular\",'Reg'))\\\n",
        "    .withColumn('Item_Fat_Content',regexp_replace(col('Item_Fat_Content'),\"Low Fat\",'LF'))\\\n",
        "        .display()"
      ]
    },
    {
      "cell_type": "markdown",
      "metadata": {
        "application/vnd.databricks.v1+cell": {
          "cellMetadata": {},
          "inputWidgets": {},
          "nuid": "c92f22b9-6894-4ea7-b940-5d47d22fe273",
          "showTitle": false,
          "tableResultSettingsMap": {},
          "title": ""
        },
        "id": "JRz7at16C2fh"
      },
      "source": [
        "### Type Casting"
      ]
    },
    {
      "cell_type": "code",
      "execution_count": null,
      "metadata": {
        "application/vnd.databricks.v1+cell": {
          "cellMetadata": {
            "byteLimit": 2048000,
            "rowLimit": 10000
          },
          "inputWidgets": {},
          "nuid": "1032c3c2-d9f3-4525-8870-ca3a91da1c86",
          "showTitle": false,
          "tableResultSettingsMap": {},
          "title": ""
        },
        "id": "anzg4bEJC2fh"
      },
      "outputs": [],
      "source": [
        "df = df_csv.withColumn('Item_Weight', col('Item_Weight').cast(StringType()))"
      ]
    },
    {
      "cell_type": "code",
      "execution_count": null,
      "metadata": {
        "application/vnd.databricks.v1+cell": {
          "cellMetadata": {
            "byteLimit": 2048000,
            "rowLimit": 10000
          },
          "inputWidgets": {},
          "nuid": "07316933-5146-4df5-9ee2-5ca5e1411a3e",
          "showTitle": false,
          "tableResultSettingsMap": {},
          "title": ""
        },
        "id": "yjmSLouxC2fh"
      },
      "outputs": [],
      "source": [
        "df.display()"
      ]
    },
    {
      "cell_type": "code",
      "execution_count": null,
      "metadata": {
        "application/vnd.databricks.v1+cell": {
          "cellMetadata": {
            "byteLimit": 2048000,
            "rowLimit": 10000
          },
          "inputWidgets": {},
          "nuid": "6d3aace2-da55-4fae-9a41-7ce83833dee6",
          "showTitle": false,
          "tableResultSettingsMap": {},
          "title": ""
        },
        "id": "-Ygh9nqcC2fh"
      },
      "outputs": [],
      "source": [
        "df.printSchema()"
      ]
    },
    {
      "cell_type": "markdown",
      "metadata": {
        "application/vnd.databricks.v1+cell": {
          "cellMetadata": {},
          "inputWidgets": {},
          "nuid": "0b7eb48c-6c34-4c9c-9a4b-510a1d2415d8",
          "showTitle": false,
          "tableResultSettingsMap": {},
          "title": ""
        },
        "id": "iMuqQoM9C2fh"
      },
      "source": [
        "### Sort/ orderBy"
      ]
    },
    {
      "cell_type": "markdown",
      "metadata": {
        "application/vnd.databricks.v1+cell": {
          "cellMetadata": {},
          "inputWidgets": {},
          "nuid": "28957dd3-baa2-42b2-bda3-271b0fe16b93",
          "showTitle": false,
          "tableResultSettingsMap": {},
          "title": ""
        },
        "id": "4Piak2l6C2fh"
      },
      "source": [
        "Case 1: sort data by descending order"
      ]
    },
    {
      "cell_type": "code",
      "execution_count": null,
      "metadata": {
        "application/vnd.databricks.v1+cell": {
          "cellMetadata": {
            "byteLimit": 2048000,
            "rowLimit": 10000
          },
          "inputWidgets": {},
          "nuid": "f10532b2-c83f-4c36-a65c-8f13f0c76beb",
          "showTitle": false,
          "tableResultSettingsMap": {},
          "title": ""
        },
        "id": "YrD0YUogC2fh"
      },
      "outputs": [],
      "source": [
        "df.sort(col('Item_weight').desc()).display()"
      ]
    },
    {
      "cell_type": "markdown",
      "metadata": {
        "application/vnd.databricks.v1+cell": {
          "cellMetadata": {},
          "inputWidgets": {},
          "nuid": "b20b392a-5bd9-424c-b351-12fe86fbe5bd",
          "showTitle": false,
          "tableResultSettingsMap": {},
          "title": ""
        },
        "id": "cTNaKmhhC2fh"
      },
      "source": [
        "case 2 : Sort by Assending"
      ]
    },
    {
      "cell_type": "code",
      "execution_count": null,
      "metadata": {
        "application/vnd.databricks.v1+cell": {
          "cellMetadata": {
            "byteLimit": 2048000,
            "rowLimit": 10000
          },
          "inputWidgets": {},
          "nuid": "b224e366-22cf-47df-9f85-7fdc17edbed6",
          "showTitle": false,
          "tableResultSettingsMap": {},
          "title": ""
        },
        "id": "1c7XcFLrC2fh"
      },
      "outputs": [],
      "source": [
        "df.sort(col('Item_Visibility').asc()).display()"
      ]
    },
    {
      "cell_type": "markdown",
      "metadata": {
        "application/vnd.databricks.v1+cell": {
          "cellMetadata": {},
          "inputWidgets": {},
          "nuid": "a926c708-e000-4e68-9625-70b5c7174e8a",
          "showTitle": false,
          "tableResultSettingsMap": {},
          "title": ""
        },
        "id": "TQC2q-r1C2fi"
      },
      "source": [
        "Case 3: sorting based on multiple columns"
      ]
    },
    {
      "cell_type": "code",
      "execution_count": null,
      "metadata": {
        "application/vnd.databricks.v1+cell": {
          "cellMetadata": {
            "byteLimit": 2048000,
            "rowLimit": 10000
          },
          "inputWidgets": {},
          "nuid": "7f5118a2-7e55-4b28-9792-3f6ea430a1fa",
          "showTitle": false,
          "tableResultSettingsMap": {},
          "title": ""
        },
        "id": "NTdDCi7zC2fi"
      },
      "outputs": [],
      "source": [
        "df.sort(['Item_Weight','Item_Visibility'],ascending=[1,0]).display()"
      ]
    },
    {
      "cell_type": "markdown",
      "metadata": {
        "application/vnd.databricks.v1+cell": {
          "cellMetadata": {},
          "inputWidgets": {},
          "nuid": "54dad5fd-110b-4fe1-a73c-28f6a9464b47",
          "showTitle": false,
          "tableResultSettingsMap": {},
          "title": ""
        },
        "id": "55r5f3FaC2fi"
      },
      "source": [
        "### Limit"
      ]
    },
    {
      "cell_type": "markdown",
      "metadata": {
        "application/vnd.databricks.v1+cell": {
          "cellMetadata": {},
          "inputWidgets": {},
          "nuid": "2f36d7fc-a3d4-4339-b0b4-607715c30e74",
          "showTitle": false,
          "tableResultSettingsMap": {},
          "title": ""
        },
        "id": "Tjy0N5niC2fi"
      },
      "source": [
        "--> use for specific data to display"
      ]
    },
    {
      "cell_type": "code",
      "execution_count": null,
      "metadata": {
        "application/vnd.databricks.v1+cell": {
          "cellMetadata": {
            "byteLimit": 2048000,
            "rowLimit": 10000
          },
          "inputWidgets": {},
          "nuid": "a3756c54-52d3-4b76-88b3-ee9c3035a1de",
          "showTitle": false,
          "tableResultSettingsMap": {},
          "title": ""
        },
        "id": "a2G-GZlfC2fi"
      },
      "outputs": [],
      "source": [
        "df.limit(10).display()"
      ]
    },
    {
      "cell_type": "markdown",
      "metadata": {
        "application/vnd.databricks.v1+cell": {
          "cellMetadata": {},
          "inputWidgets": {},
          "nuid": "a7f3d129-b664-4971-bdee-52c590d4f586",
          "showTitle": false,
          "tableResultSettingsMap": {},
          "title": ""
        },
        "id": "0t_nwCK8C2fi"
      },
      "source": [
        "### DROP"
      ]
    },
    {
      "cell_type": "markdown",
      "metadata": {
        "application/vnd.databricks.v1+cell": {
          "cellMetadata": {},
          "inputWidgets": {},
          "nuid": "0bfc46cb-05d8-4978-8dcb-3657d81dcabb",
          "showTitle": false,
          "tableResultSettingsMap": {},
          "title": ""
        },
        "id": "xuU8O8iBC2fi"
      },
      "source": [
        "case 1: Drop 1 Column"
      ]
    },
    {
      "cell_type": "code",
      "execution_count": null,
      "metadata": {
        "application/vnd.databricks.v1+cell": {
          "cellMetadata": {
            "byteLimit": 2048000,
            "rowLimit": 10000
          },
          "inputWidgets": {},
          "nuid": "e308eec6-ff0a-4bb9-b65a-3677df479bae",
          "showTitle": false,
          "tableResultSettingsMap": {},
          "title": ""
        },
        "id": "0nnvwmm_C2fi"
      },
      "outputs": [],
      "source": [
        "df.drop(\"Item_visibility\").display()"
      ]
    },
    {
      "cell_type": "markdown",
      "metadata": {
        "application/vnd.databricks.v1+cell": {
          "cellMetadata": {},
          "inputWidgets": {},
          "nuid": "f9927219-d246-440c-a06a-88fd888f26d7",
          "showTitle": false,
          "tableResultSettingsMap": {},
          "title": ""
        },
        "id": "nwjZBh-jC2fi"
      },
      "source": [
        "Case 2: Drop Multiple Columns as a time"
      ]
    },
    {
      "cell_type": "code",
      "execution_count": null,
      "metadata": {
        "application/vnd.databricks.v1+cell": {
          "cellMetadata": {
            "byteLimit": 2048000,
            "rowLimit": 10000
          },
          "inputWidgets": {},
          "nuid": "facfdc5b-bb2c-4696-a381-2fdd57a51118",
          "showTitle": false,
          "tableResultSettingsMap": {},
          "title": ""
        },
        "id": "Gz2Gq2o5C2fi"
      },
      "outputs": [],
      "source": [
        "df.drop(\"Item_visibility\",\"Item_Type\").display()"
      ]
    },
    {
      "cell_type": "markdown",
      "metadata": {
        "application/vnd.databricks.v1+cell": {
          "cellMetadata": {},
          "inputWidgets": {},
          "nuid": "24894a9b-3265-4aeb-ad78-f9204da17375",
          "showTitle": false,
          "tableResultSettingsMap": {},
          "title": ""
        },
        "id": "KRfg3UqoC2fj"
      },
      "source": [
        "### DROP_DUPLICATES"
      ]
    },
    {
      "cell_type": "markdown",
      "metadata": {
        "application/vnd.databricks.v1+cell": {
          "cellMetadata": {},
          "inputWidgets": {},
          "nuid": "f5b353f4-bb75-4364-a43b-d3cf10393464",
          "showTitle": false,
          "tableResultSettingsMap": {},
          "title": ""
        },
        "id": "JCsi6gUsC2fj"
      },
      "source": [
        "Case 1 : Drop all the duplicate values in the data"
      ]
    },
    {
      "cell_type": "code",
      "execution_count": null,
      "metadata": {
        "application/vnd.databricks.v1+cell": {
          "cellMetadata": {
            "byteLimit": 2048000,
            "rowLimit": 10000
          },
          "inputWidgets": {},
          "nuid": "c91e1c28-aec6-4349-834b-f17ec31926a5",
          "showTitle": false,
          "tableResultSettingsMap": {},
          "title": ""
        },
        "id": "F2quEFm3C2fj"
      },
      "outputs": [],
      "source": [
        "df.dropDuplicates().display()"
      ]
    },
    {
      "cell_type": "markdown",
      "metadata": {
        "application/vnd.databricks.v1+cell": {
          "cellMetadata": {},
          "inputWidgets": {},
          "nuid": "2867bdff-7bd0-4249-9762-4acc7c42d0fa",
          "showTitle": false,
          "tableResultSettingsMap": {},
          "title": ""
        },
        "id": "KsSo3z1mC2fj"
      },
      "source": [
        "Case 2: Drop duplicates in perticular columns"
      ]
    },
    {
      "cell_type": "code",
      "execution_count": null,
      "metadata": {
        "application/vnd.databricks.v1+cell": {
          "cellMetadata": {
            "byteLimit": 2048000,
            "rowLimit": 10000
          },
          "inputWidgets": {},
          "nuid": "8b131d3f-2b30-46a3-869b-94200d0de8c0",
          "showTitle": false,
          "tableResultSettingsMap": {},
          "title": ""
        },
        "id": "YxnvmyC_C2fj"
      },
      "outputs": [],
      "source": [
        "df.drop_duplicates(subset=['Item_Type']).display()"
      ]
    },
    {
      "cell_type": "markdown",
      "metadata": {
        "application/vnd.databricks.v1+cell": {
          "cellMetadata": {},
          "inputWidgets": {},
          "nuid": "5609ceba-1183-4507-bb60-6a5876c1f5d8",
          "showTitle": false,
          "tableResultSettingsMap": {},
          "title": ""
        },
        "id": "o6aE7p3yC2fj"
      },
      "source": [
        "### D_dup Data"
      ]
    },
    {
      "cell_type": "code",
      "execution_count": null,
      "metadata": {
        "application/vnd.databricks.v1+cell": {
          "cellMetadata": {
            "byteLimit": 2048000,
            "rowLimit": 10000
          },
          "inputWidgets": {},
          "nuid": "26e6adcd-6748-4ffc-b46a-5f8e11fd127d",
          "showTitle": false,
          "tableResultSettingsMap": {},
          "title": ""
        },
        "id": "MFgPqV9wC2fj"
      },
      "outputs": [],
      "source": [
        "df.distinct().display()"
      ]
    },
    {
      "cell_type": "markdown",
      "metadata": {
        "application/vnd.databricks.v1+cell": {
          "cellMetadata": {},
          "inputWidgets": {},
          "nuid": "3f217d92-21b1-4662-bbb9-90ab881d8b10",
          "showTitle": false,
          "tableResultSettingsMap": {},
          "title": ""
        },
        "id": "WH_e0DQdC2fj"
      },
      "source": [
        "### UNION and UNION BY NAME"
      ]
    },
    {
      "cell_type": "markdown",
      "metadata": {
        "application/vnd.databricks.v1+cell": {
          "cellMetadata": {},
          "inputWidgets": {},
          "nuid": "ac88c84c-0569-4fe4-b447-f4827195146d",
          "showTitle": false,
          "tableResultSettingsMap": {},
          "title": ""
        },
        "id": "OL5vp5pWC2fj"
      },
      "source": [
        "Prepared the data frames"
      ]
    },
    {
      "cell_type": "code",
      "execution_count": null,
      "metadata": {
        "application/vnd.databricks.v1+cell": {
          "cellMetadata": {
            "byteLimit": 2048000,
            "rowLimit": 10000
          },
          "inputWidgets": {},
          "nuid": "221f2dc6-edfa-498b-95de-d12b89534bf5",
          "showTitle": false,
          "tableResultSettingsMap": {},
          "title": ""
        },
        "id": "8doJS4VkC2fj"
      },
      "outputs": [],
      "source": [
        "data1 = [('1','cad'),\n",
        "         ('2','bad'),]\n",
        "schema1 = 'id string, name string'\n",
        "df1 = spark.createDataFrame(data1,schema1)\n",
        "\n",
        "data2 = [('3','mad'),\n",
        "         ('4','dad'),]\n",
        "schema2 = 'id string, name string'\n",
        "df2 = spark.createDataFrame(data2,schema2)"
      ]
    },
    {
      "cell_type": "code",
      "execution_count": null,
      "metadata": {
        "application/vnd.databricks.v1+cell": {
          "cellMetadata": {
            "byteLimit": 2048000,
            "rowLimit": 10000
          },
          "inputWidgets": {},
          "nuid": "5b65d03e-45f2-4cb8-beed-e2879b177f40",
          "showTitle": false,
          "tableResultSettingsMap": {},
          "title": ""
        },
        "id": "jHschavoC2fk"
      },
      "outputs": [],
      "source": [
        "df1.display()"
      ]
    },
    {
      "cell_type": "code",
      "execution_count": null,
      "metadata": {
        "application/vnd.databricks.v1+cell": {
          "cellMetadata": {
            "byteLimit": 2048000,
            "rowLimit": 10000
          },
          "inputWidgets": {},
          "nuid": "257a7c5d-069e-4491-8bd0-3d4edb4d19f9",
          "showTitle": false,
          "tableResultSettingsMap": {},
          "title": ""
        },
        "id": "P3paK1SHC2fk"
      },
      "outputs": [],
      "source": [
        "df2.display()"
      ]
    },
    {
      "cell_type": "markdown",
      "metadata": {
        "application/vnd.databricks.v1+cell": {
          "cellMetadata": {},
          "inputWidgets": {},
          "nuid": "9477e63d-4172-48e0-84cc-e7dc69cc17f4",
          "showTitle": false,
          "tableResultSettingsMap": {},
          "title": ""
        },
        "id": "Pz4lBQxRC2fk"
      },
      "source": [
        "### Union"
      ]
    },
    {
      "cell_type": "code",
      "execution_count": null,
      "metadata": {
        "application/vnd.databricks.v1+cell": {
          "cellMetadata": {
            "byteLimit": 2048000,
            "rowLimit": 10000
          },
          "inputWidgets": {},
          "nuid": "ff932c80-d70e-4a15-88ef-d8f4fb714e84",
          "showTitle": false,
          "tableResultSettingsMap": {},
          "title": ""
        },
        "id": "UsOEsFYfC2fk"
      },
      "outputs": [],
      "source": [
        "df1.union(df2).display()"
      ]
    },
    {
      "cell_type": "markdown",
      "metadata": {
        "application/vnd.databricks.v1+cell": {
          "cellMetadata": {},
          "inputWidgets": {},
          "nuid": "4a6c7b59-94ab-4355-afe7-76231f8572c9",
          "showTitle": false,
          "tableResultSettingsMap": {},
          "title": ""
        },
        "id": "jSq4vhzHC2fk"
      },
      "source": [
        "###Union by Name"
      ]
    },
    {
      "cell_type": "code",
      "execution_count": null,
      "metadata": {
        "application/vnd.databricks.v1+cell": {
          "cellMetadata": {
            "byteLimit": 2048000,
            "rowLimit": 10000
          },
          "inputWidgets": {},
          "nuid": "9021128a-ce2d-4c39-82ee-5b8f63bc3d85",
          "showTitle": false,
          "tableResultSettingsMap": {},
          "title": ""
        },
        "id": "tI8JwE9VC2fk"
      },
      "outputs": [],
      "source": [
        "data1 = [('cad','1'),\n",
        "         ('bad','2'),]\n",
        "schema1 = 'name string, id string'\n",
        "df1 = spark.createDataFrame(data1,schema1)\n",
        "df1.display()"
      ]
    },
    {
      "cell_type": "code",
      "execution_count": null,
      "metadata": {
        "application/vnd.databricks.v1+cell": {
          "cellMetadata": {
            "byteLimit": 2048000,
            "rowLimit": 10000
          },
          "inputWidgets": {},
          "nuid": "ed2da6ed-a30d-4049-8fa9-61f01d98532b",
          "showTitle": false,
          "tableResultSettingsMap": {},
          "title": ""
        },
        "id": "WDQMK0HbC2fk"
      },
      "outputs": [],
      "source": [
        "df1.union(df2).display( )"
      ]
    },
    {
      "cell_type": "code",
      "execution_count": null,
      "metadata": {
        "application/vnd.databricks.v1+cell": {
          "cellMetadata": {
            "byteLimit": 2048000,
            "rowLimit": 10000
          },
          "inputWidgets": {},
          "nuid": "d8a0c529-a714-4525-b36c-e03ee9128310",
          "showTitle": false,
          "tableResultSettingsMap": {},
          "title": ""
        },
        "id": "B-FhuUcLC2fk"
      },
      "outputs": [],
      "source": [
        "df1.unionByName(df2).display()"
      ]
    },
    {
      "cell_type": "markdown",
      "metadata": {
        "application/vnd.databricks.v1+cell": {
          "cellMetadata": {},
          "inputWidgets": {},
          "nuid": "98ccfb5c-6bb0-4b8f-a30a-f2d73b5b5c35",
          "showTitle": false,
          "tableResultSettingsMap": {},
          "title": ""
        },
        "id": "qPpm-5tjC2fk"
      },
      "source": [
        "### STRING FUNCTIONS"
      ]
    },
    {
      "cell_type": "markdown",
      "metadata": {
        "application/vnd.databricks.v1+cell": {
          "cellMetadata": {},
          "inputWidgets": {},
          "nuid": "99dad2f8-f7be-4679-8a82-43d7a1962aad",
          "showTitle": false,
          "tableResultSettingsMap": {},
          "title": ""
        },
        "id": "-ovzr8H3C2fk"
      },
      "source": [
        "1. Initcap()\n",
        "2. lower()\n",
        "3. upper()"
      ]
    },
    {
      "cell_type": "code",
      "execution_count": null,
      "metadata": {
        "application/vnd.databricks.v1+cell": {
          "cellMetadata": {
            "byteLimit": 2048000,
            "rowLimit": 10000
          },
          "inputWidgets": {},
          "nuid": "1a724652-dca4-4ec7-b5ec-596c99110f0a",
          "showTitle": false,
          "tableResultSettingsMap": {},
          "title": ""
        },
        "id": "Rdb_g77lC2fl"
      },
      "outputs": [],
      "source": [
        "df.select(initcap('Item_Type')).display()"
      ]
    },
    {
      "cell_type": "markdown",
      "metadata": {
        "application/vnd.databricks.v1+cell": {
          "cellMetadata": {},
          "inputWidgets": {},
          "nuid": "2a5ec6d9-ce39-4031-a921-144087d2183c",
          "showTitle": false,
          "tableResultSettingsMap": {},
          "title": ""
        },
        "id": "M6TFL6ojC2fl"
      },
      "source": [
        "### Date Functions"
      ]
    },
    {
      "cell_type": "code",
      "execution_count": 2,
      "metadata": {
        "application/vnd.databricks.v1+cell": {
          "cellMetadata": {
            "byteLimit": 2048000,
            "rowLimit": 10000
          },
          "inputWidgets": {},
          "nuid": "f9858f80-e9da-4683-9582-c3541b80eef8",
          "showTitle": false,
          "tableResultSettingsMap": {},
          "title": ""
        },
        "id": "RZZ8QDqAC2fl"
      },
      "outputs": [],
      "source": [
        "from pyspark.sql.functions import *\n",
        "from pyspark.sql.types import *"
      ]
    },
    {
      "cell_type": "code",
      "execution_count": null,
      "metadata": {
        "application/vnd.databricks.v1+cell": {
          "cellMetadata": {
            "byteLimit": 2048000,
            "rowLimit": 10000
          },
          "inputWidgets": {},
          "nuid": "9c351a4c-d238-4a64-844c-1f7bd62f5d53",
          "showTitle": false,
          "tableResultSettingsMap": {},
          "title": ""
        },
        "id": "C0je2BEZC2fl"
      },
      "outputs": [],
      "source": [
        "df = spark.read.format('csv')\\\n",
        "    .option('header','true')\\\n",
        "        .option('inferSchema','true')\\\n",
        "            .load(path_csv)"
      ]
    },
    {
      "cell_type": "code",
      "execution_count": null,
      "metadata": {
        "application/vnd.databricks.v1+cell": {
          "cellMetadata": {
            "byteLimit": 2048000,
            "rowLimit": 10000
          },
          "inputWidgets": {},
          "nuid": "615146ab-23cc-48bc-8763-abd55b87fddc",
          "showTitle": false,
          "tableResultSettingsMap": {},
          "title": ""
        },
        "id": "tkU8y2gUC2fl"
      },
      "outputs": [],
      "source": [
        "df.display()"
      ]
    },
    {
      "cell_type": "markdown",
      "metadata": {
        "application/vnd.databricks.v1+cell": {
          "cellMetadata": {},
          "inputWidgets": {},
          "nuid": "041912ce-4340-427e-9890-bd9696a79428",
          "showTitle": false,
          "tableResultSettingsMap": {},
          "title": ""
        },
        "id": "BOM0Dh7aC2fl"
      },
      "source": [
        "1. Current_date()"
      ]
    },
    {
      "cell_type": "code",
      "execution_count": null,
      "metadata": {
        "application/vnd.databricks.v1+cell": {
          "cellMetadata": {
            "byteLimit": 2048000,
            "rowLimit": 10000
          },
          "inputWidgets": {},
          "nuid": "0523d854-3f6f-4846-9a2a-38d74217e5d4",
          "showTitle": false,
          "tableResultSettingsMap": {},
          "title": ""
        },
        "id": "nzUHxpb8C2fl"
      },
      "outputs": [],
      "source": [
        "df =df.withColumn('Curr_date',current_date())"
      ]
    },
    {
      "cell_type": "code",
      "execution_count": null,
      "metadata": {
        "application/vnd.databricks.v1+cell": {
          "cellMetadata": {
            "byteLimit": 2048000,
            "rowLimit": 10000
          },
          "inputWidgets": {},
          "nuid": "8521a0b6-73eb-40d7-ad1a-1b4a2cbac23b",
          "showTitle": false,
          "tableResultSettingsMap": {},
          "title": ""
        },
        "id": "bPVVvZ8VC2fl"
      },
      "outputs": [],
      "source": [
        "df.display()"
      ]
    },
    {
      "cell_type": "markdown",
      "metadata": {
        "application/vnd.databricks.v1+cell": {
          "cellMetadata": {},
          "inputWidgets": {},
          "nuid": "21e2b808-c53c-47a4-9d13-e402ac997672",
          "showTitle": false,
          "tableResultSettingsMap": {},
          "title": ""
        },
        "id": "KuMKgXSsC2fl"
      },
      "source": [
        "2. Date_add()"
      ]
    },
    {
      "cell_type": "code",
      "execution_count": null,
      "metadata": {
        "application/vnd.databricks.v1+cell": {
          "cellMetadata": {
            "byteLimit": 2048000,
            "rowLimit": 10000
          },
          "inputWidgets": {},
          "nuid": "711bc003-c6ec-4774-9c81-25051c6cc0b0",
          "showTitle": false,
          "tableResultSettingsMap": {},
          "title": ""
        },
        "id": "qkz3UZHqC2fm"
      },
      "outputs": [],
      "source": [
        "df = df.withColumn('week_after',date_add('Curr_date', 7))"
      ]
    },
    {
      "cell_type": "code",
      "execution_count": null,
      "metadata": {
        "application/vnd.databricks.v1+cell": {
          "cellMetadata": {
            "byteLimit": 2048000,
            "rowLimit": 10000
          },
          "inputWidgets": {},
          "nuid": "d2dd2f20-23a7-4519-aa61-505ec1db3c8d",
          "showTitle": false,
          "tableResultSettingsMap": {},
          "title": ""
        },
        "id": "rGpAUwxvC2fm"
      },
      "outputs": [],
      "source": [
        "df.display()"
      ]
    },
    {
      "cell_type": "markdown",
      "metadata": {
        "application/vnd.databricks.v1+cell": {
          "cellMetadata": {},
          "inputWidgets": {},
          "nuid": "34b43c66-1c50-4ced-941c-4862811e64b6",
          "showTitle": false,
          "tableResultSettingsMap": {},
          "title": ""
        },
        "id": "ib3R-G3DC2fm"
      },
      "source": [
        "3. Date_sub()"
      ]
    },
    {
      "cell_type": "code",
      "execution_count": null,
      "metadata": {
        "application/vnd.databricks.v1+cell": {
          "cellMetadata": {
            "byteLimit": 2048000,
            "rowLimit": 10000
          },
          "inputWidgets": {},
          "nuid": "a620fb21-724b-45ef-a153-26287424de1a",
          "showTitle": false,
          "tableResultSettingsMap": {},
          "title": ""
        },
        "id": "BONnetTRC2fm"
      },
      "outputs": [],
      "source": [
        "df = df.withColumn('week_before', date_sub('Curr_date', 7))"
      ]
    },
    {
      "cell_type": "code",
      "execution_count": null,
      "metadata": {
        "application/vnd.databricks.v1+cell": {
          "cellMetadata": {
            "byteLimit": 2048000,
            "rowLimit": 10000
          },
          "inputWidgets": {},
          "nuid": "163639e8-79f5-4737-a939-dadfdebf31b7",
          "showTitle": false,
          "tableResultSettingsMap": {},
          "title": ""
        },
        "id": "vYO0XC_iC2fm"
      },
      "outputs": [],
      "source": [
        "df.display()"
      ]
    },
    {
      "cell_type": "markdown",
      "metadata": {
        "application/vnd.databricks.v1+cell": {
          "cellMetadata": {},
          "inputWidgets": {},
          "nuid": "6cdb1def-2f18-4c52-b9b9-fd8699e230aa",
          "showTitle": false,
          "tableResultSettingsMap": {},
          "title": ""
        },
        "id": "LCH0NxatC2fm"
      },
      "source": [
        "### DATEDIFF"
      ]
    },
    {
      "cell_type": "markdown",
      "metadata": {
        "application/vnd.databricks.v1+cell": {
          "cellMetadata": {},
          "inputWidgets": {},
          "nuid": "c93926b8-b721-4cc6-9e47-b8df2a84e828",
          "showTitle": false,
          "tableResultSettingsMap": {},
          "title": ""
        },
        "id": "kpZz36vIC2fm"
      },
      "source": [
        "--> to give the date difference"
      ]
    },
    {
      "cell_type": "code",
      "execution_count": null,
      "metadata": {
        "application/vnd.databricks.v1+cell": {
          "cellMetadata": {
            "byteLimit": 2048000,
            "rowLimit": 10000
          },
          "inputWidgets": {},
          "nuid": "27c467a6-b36b-4d7c-b09f-3b4c99a77979",
          "showTitle": false,
          "tableResultSettingsMap": {},
          "title": ""
        },
        "id": "clTw2FqNC2fm"
      },
      "outputs": [],
      "source": [
        "df = df.withColumn('diff', datediff('Curr_date','week_after'))"
      ]
    },
    {
      "cell_type": "code",
      "execution_count": null,
      "metadata": {
        "application/vnd.databricks.v1+cell": {
          "cellMetadata": {
            "byteLimit": 2048000,
            "rowLimit": 10000
          },
          "inputWidgets": {},
          "nuid": "1716261c-b9d8-4025-bdbc-6c1602e6efd6",
          "showTitle": false,
          "tableResultSettingsMap": {},
          "title": ""
        },
        "id": "vVL0N_Q_C2fm"
      },
      "outputs": [],
      "source": [
        "df.display()\n"
      ]
    },
    {
      "cell_type": "markdown",
      "metadata": {
        "application/vnd.databricks.v1+cell": {
          "cellMetadata": {},
          "inputWidgets": {},
          "nuid": "41baa911-9493-4370-beb8-6d4799eb04d3",
          "showTitle": false,
          "tableResultSettingsMap": {},
          "title": ""
        },
        "id": "LmkYOvQaC2fn"
      },
      "source": [
        "Date_Format()"
      ]
    },
    {
      "cell_type": "code",
      "execution_count": null,
      "metadata": {
        "application/vnd.databricks.v1+cell": {
          "cellMetadata": {
            "byteLimit": 2048000,
            "rowLimit": 10000
          },
          "inputWidgets": {},
          "nuid": "07c9be97-b1f7-4934-b88e-75f023b514ff",
          "showTitle": false,
          "tableResultSettingsMap": {},
          "title": ""
        },
        "id": "8XUcvUAZC2fn"
      },
      "outputs": [],
      "source": [
        "df = df.withColumn('week_before', date_format('week_before','dd-MM-yyyy'))"
      ]
    },
    {
      "cell_type": "code",
      "execution_count": null,
      "metadata": {
        "application/vnd.databricks.v1+cell": {
          "cellMetadata": {
            "byteLimit": 2048000,
            "rowLimit": 10000
          },
          "inputWidgets": {},
          "nuid": "df153121-7142-4b3a-8819-b61c33e8ac8b",
          "showTitle": false,
          "tableResultSettingsMap": {},
          "title": ""
        },
        "id": "RaOevuCWC2fn"
      },
      "outputs": [],
      "source": [
        "df.display()"
      ]
    },
    {
      "cell_type": "markdown",
      "metadata": {
        "application/vnd.databricks.v1+cell": {
          "cellMetadata": {},
          "inputWidgets": {},
          "nuid": "2d8d9b9c-6bba-4c27-921a-22f68b649075",
          "showTitle": false,
          "tableResultSettingsMap": {},
          "title": ""
        },
        "id": "GOJYu8jLC2fo"
      },
      "source": [
        "### Handeling NULLS"
      ]
    },
    {
      "cell_type": "markdown",
      "metadata": {
        "application/vnd.databricks.v1+cell": {
          "cellMetadata": {},
          "inputWidgets": {},
          "nuid": "4d692345-8941-4c37-8811-8f2e78c1f4e4",
          "showTitle": false,
          "tableResultSettingsMap": {},
          "title": ""
        },
        "id": "7t830YhpC2fo"
      },
      "source": [
        "Dropping Nulls"
      ]
    },
    {
      "cell_type": "code",
      "execution_count": null,
      "metadata": {
        "application/vnd.databricks.v1+cell": {
          "cellMetadata": {
            "byteLimit": 2048000,
            "rowLimit": 10000
          },
          "inputWidgets": {},
          "nuid": "034c059c-aadc-4ecd-95aa-26388c609098",
          "showTitle": false,
          "tableResultSettingsMap": {},
          "title": ""
        },
        "id": "omfVnh-vC2fp"
      },
      "outputs": [],
      "source": [
        "df.dropna('all').display()"
      ]
    },
    {
      "cell_type": "code",
      "execution_count": null,
      "metadata": {
        "application/vnd.databricks.v1+cell": {
          "cellMetadata": {
            "byteLimit": 2048000,
            "rowLimit": 10000
          },
          "inputWidgets": {},
          "nuid": "2a5bfe7a-602f-41cb-91ae-66ac7a2b5642",
          "showTitle": false,
          "tableResultSettingsMap": {},
          "title": ""
        },
        "id": "xZHMepG1C2fp"
      },
      "outputs": [],
      "source": [
        "df.dropna('any').display()"
      ]
    },
    {
      "cell_type": "code",
      "execution_count": null,
      "metadata": {
        "application/vnd.databricks.v1+cell": {
          "cellMetadata": {
            "byteLimit": 2048000,
            "rowLimit": 10000
          },
          "inputWidgets": {},
          "nuid": "c1aac6bc-b2b0-443d-874d-d9603a46fb43",
          "showTitle": false,
          "tableResultSettingsMap": {},
          "title": ""
        },
        "id": "Y7Jou1sRC2fq"
      },
      "outputs": [],
      "source": [
        "df.display()"
      ]
    },
    {
      "cell_type": "markdown",
      "metadata": {
        "application/vnd.databricks.v1+cell": {
          "cellMetadata": {},
          "inputWidgets": {},
          "nuid": "b76fe58b-9713-48fe-a70f-779b1f9ff7c5",
          "showTitle": false,
          "tableResultSettingsMap": {},
          "title": ""
        },
        "id": "m8Jv3rxAC2fq"
      },
      "source": [
        "Filling the Null Values"
      ]
    },
    {
      "cell_type": "markdown",
      "metadata": {
        "application/vnd.databricks.v1+cell": {
          "cellMetadata": {},
          "inputWidgets": {},
          "nuid": "bffdf392-be37-4684-a7a5-af2b06e66b85",
          "showTitle": false,
          "tableResultSettingsMap": {},
          "title": ""
        },
        "id": "Oz2dHRSVC2fq"
      },
      "source": [
        "replace all the null values"
      ]
    },
    {
      "cell_type": "code",
      "execution_count": null,
      "metadata": {
        "application/vnd.databricks.v1+cell": {
          "cellMetadata": {
            "byteLimit": 2048000,
            "rowLimit": 10000
          },
          "inputWidgets": {},
          "nuid": "bfb81210-e3b4-4cf6-93f0-2ac0098cc277",
          "showTitle": false,
          "tableResultSettingsMap": {},
          "title": ""
        },
        "id": "dF86scDCC2fq"
      },
      "outputs": [],
      "source": [
        "df.fillna('NotAvailable').display()"
      ]
    },
    {
      "cell_type": "code",
      "execution_count": null,
      "metadata": {
        "application/vnd.databricks.v1+cell": {
          "cellMetadata": {
            "byteLimit": 2048000,
            "rowLimit": 10000
          },
          "inputWidgets": {},
          "nuid": "68ca83a4-1971-4e62-af6e-7eeb5c3b7c84",
          "showTitle": false,
          "tableResultSettingsMap": {},
          "title": ""
        },
        "id": "5QCMVnpiC2fq"
      },
      "outputs": [],
      "source": [
        "df.fillna(value='NOtaVailablle', subset='Outlet_Size').display()"
      ]
    },
    {
      "cell_type": "markdown",
      "metadata": {
        "application/vnd.databricks.v1+cell": {
          "cellMetadata": {},
          "inputWidgets": {},
          "nuid": "c9c4ec0d-1da8-43e5-a23a-fb89cbc3a7d3",
          "showTitle": false,
          "tableResultSettingsMap": {},
          "title": ""
        },
        "id": "ScWNcDf_C2fq"
      },
      "source": [
        "### SPLIT and Indexing"
      ]
    },
    {
      "cell_type": "markdown",
      "metadata": {
        "application/vnd.databricks.v1+cell": {
          "cellMetadata": {},
          "inputWidgets": {},
          "nuid": "81f88d88-dd46-4e4c-8630-b4892a2a84f1",
          "showTitle": false,
          "tableResultSettingsMap": {},
          "title": ""
        },
        "id": "rSmx08DrC2fq"
      },
      "source": [
        "1. Split"
      ]
    },
    {
      "cell_type": "code",
      "execution_count": null,
      "metadata": {
        "application/vnd.databricks.v1+cell": {
          "cellMetadata": {
            "byteLimit": 2048000,
            "rowLimit": 10000
          },
          "inputWidgets": {},
          "nuid": "50653713-8061-49e8-a01f-b8047dc1c735",
          "showTitle": false,
          "tableResultSettingsMap": {},
          "title": ""
        },
        "id": "yqp9u-3UC2fr"
      },
      "outputs": [],
      "source": [
        "df.withColumn('outlet_type', split('outlet_type', ' ')).display()"
      ]
    },
    {
      "cell_type": "markdown",
      "metadata": {
        "application/vnd.databricks.v1+cell": {
          "cellMetadata": {},
          "inputWidgets": {},
          "nuid": "b6862740-ffa5-4495-8fe6-2bfbacbb7063",
          "showTitle": false,
          "tableResultSettingsMap": {},
          "title": ""
        },
        "id": "iNZ1CZ6lC2fr"
      },
      "source": [
        "Indexing"
      ]
    },
    {
      "cell_type": "code",
      "execution_count": null,
      "metadata": {
        "application/vnd.databricks.v1+cell": {
          "cellMetadata": {
            "byteLimit": 2048000,
            "rowLimit": 10000
          },
          "inputWidgets": {},
          "nuid": "08b2a44e-ca46-4b82-b6bc-855ed3e352da",
          "showTitle": false,
          "tableResultSettingsMap": {},
          "title": ""
        },
        "id": "J5t2lu_dC2fr"
      },
      "outputs": [],
      "source": [
        "df.withColumn('outlet_type', split('outlet_type', ' ')[1]).display()"
      ]
    },
    {
      "cell_type": "markdown",
      "metadata": {
        "application/vnd.databricks.v1+cell": {
          "cellMetadata": {},
          "inputWidgets": {},
          "nuid": "fb02d374-e781-4304-bb23-2bb44ff35c89",
          "showTitle": false,
          "tableResultSettingsMap": {},
          "title": ""
        },
        "id": "e-06LVfuC2fr"
      },
      "source": [
        "## EXPLODE"
      ]
    },
    {
      "cell_type": "code",
      "execution_count": null,
      "metadata": {
        "application/vnd.databricks.v1+cell": {
          "cellMetadata": {
            "byteLimit": 2048000,
            "rowLimit": 10000
          },
          "inputWidgets": {},
          "nuid": "5754d9df-7457-44a3-b922-5f2dad75b1ca",
          "showTitle": false,
          "tableResultSettingsMap": {},
          "title": ""
        },
        "id": "dkjlhoRMC2fr"
      },
      "outputs": [],
      "source": [
        "df_exp = df.withColumn('outlet_type', split('outlet_type', ' '))\n"
      ]
    },
    {
      "cell_type": "code",
      "execution_count": null,
      "metadata": {
        "application/vnd.databricks.v1+cell": {
          "cellMetadata": {
            "byteLimit": 2048000,
            "rowLimit": 10000
          },
          "inputWidgets": {},
          "nuid": "16b6a734-8bdb-41a6-9e3b-32faad1563e2",
          "showTitle": false,
          "tableResultSettingsMap": {},
          "title": ""
        },
        "id": "g3xz2QCMC2fr"
      },
      "outputs": [],
      "source": [
        "df_exp.display()"
      ]
    },
    {
      "cell_type": "code",
      "execution_count": null,
      "metadata": {
        "application/vnd.databricks.v1+cell": {
          "cellMetadata": {
            "byteLimit": 2048000,
            "rowLimit": 10000
          },
          "inputWidgets": {},
          "nuid": "88f5d27f-2f25-4022-a53d-ca07e6de7ada",
          "showTitle": false,
          "tableResultSettingsMap": {},
          "title": ""
        },
        "id": "8Tt3bN91C2fr"
      },
      "outputs": [],
      "source": [
        "df_exp.withColumn('outlet_type', explode('outlet_type'))"
      ]
    },
    {
      "cell_type": "code",
      "execution_count": null,
      "metadata": {
        "application/vnd.databricks.v1+cell": {
          "cellMetadata": {
            "byteLimit": 2048000,
            "rowLimit": 10000
          },
          "inputWidgets": {},
          "nuid": "334fefdf-9188-43b8-9677-25854f440223",
          "showTitle": false,
          "tableResultSettingsMap": {},
          "title": ""
        },
        "id": "phZQszorC2fs"
      },
      "outputs": [],
      "source": [
        "df_exp.display()"
      ]
    },
    {
      "cell_type": "markdown",
      "metadata": {
        "application/vnd.databricks.v1+cell": {
          "cellMetadata": {},
          "inputWidgets": {},
          "nuid": "f525220b-22df-4eb0-87d1-41b9cb997393",
          "showTitle": false,
          "tableResultSettingsMap": {},
          "title": ""
        },
        "id": "zhZcNe4MC2fs"
      },
      "source": [
        "### ARRAY_CONTAINS"
      ]
    },
    {
      "cell_type": "code",
      "execution_count": null,
      "metadata": {
        "application/vnd.databricks.v1+cell": {
          "cellMetadata": {
            "byteLimit": 2048000,
            "rowLimit": 10000
          },
          "inputWidgets": {},
          "nuid": "9bbada83-2f0b-4db1-8f77-4cccf6ce4f97",
          "showTitle": false,
          "tableResultSettingsMap": {},
          "title": ""
        },
        "id": "BI0CJQieC2fs"
      },
      "outputs": [],
      "source": [
        "df_exp.withColumn('type_flag', array_contains('outlet_type', 'Type1')).display()"
      ]
    },
    {
      "cell_type": "markdown",
      "metadata": {
        "application/vnd.databricks.v1+cell": {
          "cellMetadata": {},
          "inputWidgets": {},
          "nuid": "2850997d-3c86-49b9-8ef0-aba95d72ec92",
          "showTitle": false,
          "tableResultSettingsMap": {},
          "title": ""
        },
        "id": "lpo5SrmuC2fs"
      },
      "source": [
        "### Group_By"
      ]
    },
    {
      "cell_type": "markdown",
      "metadata": {
        "application/vnd.databricks.v1+cell": {
          "cellMetadata": {},
          "inputWidgets": {},
          "nuid": "1ce32f52-b87d-4302-bd6d-5eca153fd1c8",
          "showTitle": false,
          "tableResultSettingsMap": {},
          "title": ""
        },
        "id": "t6YzqjVjC2fv"
      },
      "source": [
        "Case 1 : Find SUM"
      ]
    },
    {
      "cell_type": "code",
      "execution_count": null,
      "metadata": {
        "application/vnd.databricks.v1+cell": {
          "cellMetadata": {
            "byteLimit": 2048000,
            "rowLimit": 10000
          },
          "inputWidgets": {},
          "nuid": "35cb373d-8f34-4470-bd26-5d79338a8fd4",
          "showTitle": false,
          "tableResultSettingsMap": {},
          "title": ""
        },
        "id": "4JNkwS98C2fv"
      },
      "outputs": [],
      "source": [
        "df.groupBy('Item_Type').agg(sum('Item_MRP')).display()"
      ]
    },
    {
      "cell_type": "markdown",
      "metadata": {
        "application/vnd.databricks.v1+cell": {
          "cellMetadata": {},
          "inputWidgets": {},
          "nuid": "71c92222-c740-4f78-8f42-336845bf0640",
          "showTitle": false,
          "tableResultSettingsMap": {},
          "title": ""
        },
        "id": "dEpfnDSpC2fw"
      },
      "source": [
        "Case 2 : find AVG"
      ]
    },
    {
      "cell_type": "code",
      "execution_count": null,
      "metadata": {
        "application/vnd.databricks.v1+cell": {
          "cellMetadata": {
            "byteLimit": 2048000,
            "rowLimit": 10000
          },
          "inputWidgets": {},
          "nuid": "2e1ff145-103d-41ee-91b2-58ef58090349",
          "showTitle": false,
          "tableResultSettingsMap": {},
          "title": ""
        },
        "id": "-ybO7tccC2fw"
      },
      "outputs": [],
      "source": [
        "df.groupBy('Item_Type').agg(avg('Item_MRP')).display()"
      ]
    },
    {
      "cell_type": "markdown",
      "metadata": {
        "application/vnd.databricks.v1+cell": {
          "cellMetadata": {},
          "inputWidgets": {},
          "nuid": "2062b463-9594-46fa-b4ff-49afa2b16e4e",
          "showTitle": false,
          "tableResultSettingsMap": {},
          "title": ""
        },
        "id": "VGtrz3DpC2fw"
      },
      "source": [
        "Case 3:"
      ]
    },
    {
      "cell_type": "code",
      "execution_count": null,
      "metadata": {
        "application/vnd.databricks.v1+cell": {
          "cellMetadata": {
            "byteLimit": 2048000,
            "rowLimit": 10000
          },
          "inputWidgets": {},
          "nuid": "b8e931d9-9cf4-49ef-a1e2-0c6396a94290",
          "showTitle": false,
          "tableResultSettingsMap": {},
          "title": ""
        },
        "id": "YwYOhKEmC2fw"
      },
      "outputs": [],
      "source": [
        "df.groupBy('Item_Type','outlet_Size').agg(sum('Item_MRP').alias('Total_MRP')).display()"
      ]
    },
    {
      "cell_type": "markdown",
      "metadata": {
        "application/vnd.databricks.v1+cell": {
          "cellMetadata": {},
          "inputWidgets": {},
          "nuid": "18c300c0-4f61-4669-a99b-2a597930ff91",
          "showTitle": false,
          "tableResultSettingsMap": {},
          "title": ""
        },
        "id": "WbFlDiVkC2fw"
      },
      "source": [
        "Case4:"
      ]
    },
    {
      "cell_type": "code",
      "execution_count": 20,
      "metadata": {
        "application/vnd.databricks.v1+cell": {
          "cellMetadata": {
            "byteLimit": 2048000,
            "rowLimit": 10000
          },
          "inputWidgets": {},
          "nuid": "b6a905ff-9103-4302-ba57-20e2cbba7981",
          "showTitle": false,
          "tableResultSettingsMap": {},
          "title": ""
        },
        "id": "apBHbHPxC2fw",
        "outputId": "9790610e-49a2-4860-ab9f-62d8e6d30f02",
        "colab": {
          "base_uri": "https://localhost:8080/"
        }
      },
      "outputs": [
        {
          "output_type": "stream",
          "name": "stdout",
          "text": [
            "+--------------------+-----------+------------------+------------------+\n",
            "|           Item_Type|outlet_Size|         Total_MRP|           Avg_MRP|\n",
            "+--------------------+-----------+------------------+------------------+\n",
            "|       Starchy Foods|     Medium| 7124.136199999997| 148.4195041666666|\n",
            "|Fruits and Vegeta...|     Medium|59047.217200000014| 142.9714702179177|\n",
            "|       Starchy Foods|       NULL|         6040.6402|140.48000465116277|\n",
            "|              Breads|       NULL|        10011.5004|139.04861666666667|\n",
            "|        Baking Goods|       NULL|23433.838799999994|126.66939891891889|\n",
            "|Fruits and Vegeta...|       NULL|49758.730999999985|142.57516045845267|\n",
            "|        Frozen Foods|       High|12588.291000000001|         136.82925|\n",
            "|         Soft Drinks|       High| 6456.165199999999|131.75847346938772|\n",
            "|           Breakfast|      Small|3917.0407999999998|130.56802666666667|\n",
            "|                Meat|     Medium| 20326.45059999999|136.41913154362408|\n",
            "|Fruits and Vegeta...|       High| 20671.34759999999|145.57287042253515|\n",
            "|                Meat|       High| 5627.036400000002| 137.2447902439025|\n",
            "|        Baking Goods|       High| 9431.749199999998|129.20204383561642|\n",
            "|           Household|     Medium| 42688.57439999998|147.71133010380618|\n",
            "|                Meat|       NULL|16158.166000000005|139.29453448275865|\n",
            "|         Hard Drinks|       NULL| 8869.577199999998| 134.3875333333333|\n",
            "|         Hard Drinks|      Small|         6487.9392|        129.758784|\n",
            "|         Soft Drinks|       NULL|17745.318000000003|133.42344360902257|\n",
            "|           Household|       NULL| 38567.78840000001|147.76930421455944|\n",
            "|               Dairy|       High|12280.733799999996|153.50917249999995|\n",
            "+--------------------+-----------+------------------+------------------+\n",
            "only showing top 20 rows\n",
            "\n"
          ]
        }
      ],
      "source": [
        "df.groupBy('Item_Type','outlet_Size').agg(sum('Item_MRP').alias('Total_MRP'),avg('Item_MRP').alias('Avg_MRP')).show()"
      ]
    },
    {
      "cell_type": "markdown",
      "metadata": {
        "application/vnd.databricks.v1+cell": {
          "cellMetadata": {},
          "inputWidgets": {},
          "nuid": "320e8363-c207-4955-9be0-87db0e003651",
          "showTitle": false,
          "tableResultSettingsMap": {},
          "title": ""
        },
        "id": "RKJ_m51fC2fw"
      },
      "source": [
        "### Collet_List"
      ]
    },
    {
      "cell_type": "code",
      "execution_count": 17,
      "metadata": {
        "application/vnd.databricks.v1+cell": {
          "cellMetadata": {
            "byteLimit": 2048000,
            "rowLimit": 10000
          },
          "inputWidgets": {},
          "nuid": "6a03dea7-c148-443e-b670-84ba0dba7768",
          "showTitle": false,
          "tableResultSettingsMap": {},
          "title": ""
        },
        "id": "k9zNoSmOC2fx",
        "outputId": "8b0a88f0-574c-4812-ead8-4bf5c379c50e",
        "colab": {
          "base_uri": "https://localhost:8080/"
        }
      },
      "outputs": [
        {
          "output_type": "stream",
          "name": "stdout",
          "text": [
            "+------+------+\n",
            "|  user|  book|\n",
            "+------+------+\n",
            "|User 1|Book 1|\n",
            "|User 2|Book 2|\n",
            "|User 3|Book 1|\n",
            "|User 3|Book 2|\n",
            "|User 1|Book 3|\n",
            "+------+------+\n",
            "\n"
          ]
        }
      ],
      "source": [
        "data = [('User 1', 'Book 1'),\n",
        "        ('User 2', 'Book 2'),\n",
        "        ('User 3', 'Book 1'),\n",
        "        ('User 3', 'Book 2'),\n",
        "        ('User 1', 'Book 3')]\n",
        "\n",
        "schema = 'user string, book string'\n",
        "\n",
        "df_book = spark.createDataFrame(data, schema)\n",
        "\n",
        "df_book.show()"
      ]
    },
    {
      "cell_type": "code",
      "execution_count": 19,
      "metadata": {
        "application/vnd.databricks.v1+cell": {
          "cellMetadata": {
            "byteLimit": 2048000,
            "rowLimit": 10000
          },
          "inputWidgets": {},
          "nuid": "96b84bcd-933e-475d-9c40-509ba8f19fc6",
          "showTitle": false,
          "tableResultSettingsMap": {},
          "title": ""
        },
        "id": "omFlRQ1YC2fx",
        "outputId": "2970c788-c79b-40a8-cd01-4171076fffc2",
        "colab": {
          "base_uri": "https://localhost:8080/"
        }
      },
      "outputs": [
        {
          "output_type": "stream",
          "name": "stdout",
          "text": [
            "+------+------------------+\n",
            "|  user|collect_list(book)|\n",
            "+------+------------------+\n",
            "|User 2|          [Book 2]|\n",
            "|User 1|  [Book 1, Book 3]|\n",
            "|User 3|  [Book 1, Book 2]|\n",
            "+------+------------------+\n",
            "\n"
          ]
        }
      ],
      "source": [
        "df_book.groupBy('user').agg(collect_list('book')).show( )"
      ]
    },
    {
      "cell_type": "markdown",
      "source": [
        "Example"
      ],
      "metadata": {
        "id": "2bQa2bNJEXk2"
      }
    },
    {
      "cell_type": "code",
      "source": [
        "!pip install pyspark"
      ],
      "metadata": {
        "id": "MR4uAHEcEbID",
        "outputId": "f339e796-6cf7-4aaf-f65e-79f70f5c7720",
        "colab": {
          "base_uri": "https://localhost:8080/"
        }
      },
      "execution_count": 6,
      "outputs": [
        {
          "output_type": "stream",
          "name": "stdout",
          "text": [
            "Requirement already satisfied: pyspark in /usr/local/lib/python3.11/dist-packages (3.5.5)\n",
            "Requirement already satisfied: py4j==0.10.9.7 in /usr/local/lib/python3.11/dist-packages (from pyspark) (0.10.9.7)\n"
          ]
        }
      ]
    },
    {
      "cell_type": "code",
      "source": [
        "from pyspark.sql import SparkSession # Import the SparkSession class from the pyspark.sql module\n",
        "from pyspark.sql.functions import *\n",
        "from pyspark.sql.types import *\n",
        "\n",
        "spark = SparkSession.builder.appName('Practice').getOrCreate()"
      ],
      "metadata": {
        "id": "ikC8Bo5TEg0A"
      },
      "execution_count": 11,
      "outputs": []
    },
    {
      "cell_type": "code",
      "source": [
        "path = ('/content/sample_data/BigMart Sales.csv')"
      ],
      "metadata": {
        "id": "wqvr7AtEC7fd"
      },
      "execution_count": 12,
      "outputs": []
    },
    {
      "cell_type": "code",
      "execution_count": 13,
      "metadata": {
        "application/vnd.databricks.v1+cell": {
          "cellMetadata": {},
          "inputWidgets": {},
          "nuid": "3536ec98-4a8c-48b4-89ae-a55457681727",
          "showTitle": false,
          "tableResultSettingsMap": {},
          "title": ""
        },
        "id": "qKIqtk5NC2fx"
      },
      "outputs": [],
      "source": [
        "df = spark.read.format('csv')\\\n",
        ".option('header',True)\\\n",
        ".option('inferSchema',True)\\\n",
        ".load(path)"
      ]
    },
    {
      "cell_type": "code",
      "source": [
        "df.show()"
      ],
      "metadata": {
        "id": "KkSzCA43Dw93",
        "outputId": "ff3492f0-58b8-4740-e1db-c02baca1e115",
        "colab": {
          "base_uri": "https://localhost:8080/"
        }
      },
      "execution_count": 15,
      "outputs": [
        {
          "output_type": "stream",
          "name": "stdout",
          "text": [
            "+---------------+-----------+----------------+---------------+--------------------+--------+-----------------+-------------------------+-----------+--------------------+-----------------+-----------------+\n",
            "|Item_Identifier|Item_Weight|Item_Fat_Content|Item_Visibility|           Item_Type|Item_MRP|Outlet_Identifier|Outlet_Establishment_Year|Outlet_Size|Outlet_Location_Type|      Outlet_Type|Item_Outlet_Sales|\n",
            "+---------------+-----------+----------------+---------------+--------------------+--------+-----------------+-------------------------+-----------+--------------------+-----------------+-----------------+\n",
            "|          FDA15|        9.3|         Low Fat|    0.016047301|               Dairy|249.8092|           OUT049|                     1999|     Medium|              Tier 1|Supermarket Type1|         3735.138|\n",
            "|          DRC01|       5.92|         Regular|    0.019278216|         Soft Drinks| 48.2692|           OUT018|                     2009|     Medium|              Tier 3|Supermarket Type2|         443.4228|\n",
            "|          FDN15|       17.5|         Low Fat|    0.016760075|                Meat| 141.618|           OUT049|                     1999|     Medium|              Tier 1|Supermarket Type1|          2097.27|\n",
            "|          FDX07|       19.2|         Regular|            0.0|Fruits and Vegeta...| 182.095|           OUT010|                     1998|       NULL|              Tier 3|    Grocery Store|           732.38|\n",
            "|          NCD19|       8.93|         Low Fat|            0.0|           Household| 53.8614|           OUT013|                     1987|       High|              Tier 3|Supermarket Type1|         994.7052|\n",
            "|          FDP36|     10.395|         Regular|            0.0|        Baking Goods| 51.4008|           OUT018|                     2009|     Medium|              Tier 3|Supermarket Type2|         556.6088|\n",
            "|          FDO10|      13.65|         Regular|    0.012741089|         Snack Foods| 57.6588|           OUT013|                     1987|       High|              Tier 3|Supermarket Type1|         343.5528|\n",
            "|          FDP10|       NULL|         Low Fat|    0.127469857|         Snack Foods|107.7622|           OUT027|                     1985|     Medium|              Tier 3|Supermarket Type3|        4022.7636|\n",
            "|          FDH17|       16.2|         Regular|    0.016687114|        Frozen Foods| 96.9726|           OUT045|                     2002|       NULL|              Tier 2|Supermarket Type1|        1076.5986|\n",
            "|          FDU28|       19.2|         Regular|     0.09444959|        Frozen Foods|187.8214|           OUT017|                     2007|       NULL|              Tier 2|Supermarket Type1|         4710.535|\n",
            "|          FDY07|       11.8|         Low Fat|            0.0|Fruits and Vegeta...| 45.5402|           OUT049|                     1999|     Medium|              Tier 1|Supermarket Type1|        1516.0266|\n",
            "|          FDA03|       18.5|         Regular|    0.045463773|               Dairy|144.1102|           OUT046|                     1997|      Small|              Tier 1|Supermarket Type1|         2187.153|\n",
            "|          FDX32|       15.1|         Regular|      0.1000135|Fruits and Vegeta...|145.4786|           OUT049|                     1999|     Medium|              Tier 1|Supermarket Type1|        1589.2646|\n",
            "|          FDS46|       17.6|         Regular|    0.047257328|         Snack Foods|119.6782|           OUT046|                     1997|      Small|              Tier 1|Supermarket Type1|        2145.2076|\n",
            "|          FDF32|      16.35|         Low Fat|      0.0680243|Fruits and Vegeta...|196.4426|           OUT013|                     1987|       High|              Tier 3|Supermarket Type1|         1977.426|\n",
            "|          FDP49|        9.0|         Regular|    0.069088961|           Breakfast| 56.3614|           OUT046|                     1997|      Small|              Tier 1|Supermarket Type1|        1547.3192|\n",
            "|          NCB42|       11.8|         Low Fat|    0.008596051|  Health and Hygiene|115.3492|           OUT018|                     2009|     Medium|              Tier 3|Supermarket Type2|        1621.8888|\n",
            "|          FDP49|        9.0|         Regular|    0.069196376|           Breakfast| 54.3614|           OUT049|                     1999|     Medium|              Tier 1|Supermarket Type1|         718.3982|\n",
            "|          DRI11|       NULL|         Low Fat|    0.034237682|         Hard Drinks|113.2834|           OUT027|                     1985|     Medium|              Tier 3|Supermarket Type3|         2303.668|\n",
            "|          FDU02|      13.35|         Low Fat|     0.10249212|               Dairy|230.5352|           OUT035|                     2004|      Small|              Tier 2|Supermarket Type1|        2748.4224|\n",
            "+---------------+-----------+----------------+---------------+--------------------+--------+-----------------+-------------------------+-----------+--------------------+-----------------+-----------------+\n",
            "only showing top 20 rows\n",
            "\n"
          ]
        }
      ]
    },
    {
      "cell_type": "code",
      "source": [],
      "metadata": {
        "id": "6CLpP00VE6Fk"
      },
      "execution_count": null,
      "outputs": []
    }
  ],
  "metadata": {
    "application/vnd.databricks.v1+notebook": {
      "computePreferences": null,
      "dashboards": [],
      "environmentMetadata": {
        "base_environment": "",
        "environment_version": "2"
      },
      "inputWidgetPreferences": null,
      "language": "python",
      "notebookMetadata": {
        "pythonIndentUnit": 4
      },
      "notebookName": "Tutorial 01",
      "widgets": {}
    },
    "language_info": {
      "name": "python"
    },
    "colab": {
      "provenance": []
    },
    "kernelspec": {
      "name": "python3",
      "display_name": "Python 3"
    }
  },
  "nbformat": 4,
  "nbformat_minor": 0
}